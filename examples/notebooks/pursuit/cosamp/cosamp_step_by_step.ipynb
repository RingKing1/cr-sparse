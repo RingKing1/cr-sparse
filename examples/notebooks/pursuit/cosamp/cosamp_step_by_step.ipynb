{
 "cells": [
  {
   "cell_type": "code",
   "execution_count": 1,
   "id": "a26cdf03",
   "metadata": {},
   "outputs": [],
   "source": [
    "%load_ext autoreload\n",
    "%autoreload 2"
   ]
  },
  {
   "cell_type": "code",
   "execution_count": 2,
   "id": "7bfbd532",
   "metadata": {},
   "outputs": [],
   "source": [
    "import jax\n",
    "import jax.numpy as jnp\n",
    "import numpy as np\n",
    "from jax import random, jit, grad\n",
    "import scipy"
   ]
  },
  {
   "cell_type": "code",
   "execution_count": 3,
   "id": "449b0aac",
   "metadata": {},
   "outputs": [],
   "source": [
    "import cr.sparse as crs\n",
    "from cr.sparse import la\n",
    "from cr.sparse import dict\n",
    "from cr.sparse import pursuit\n",
    "from cr.sparse import data"
   ]
  },
  {
   "cell_type": "code",
   "execution_count": 4,
   "id": "996ee25a",
   "metadata": {},
   "outputs": [],
   "source": [
    "from functools import partial"
   ]
  },
  {
   "cell_type": "markdown",
   "id": "dff90ffa",
   "metadata": {},
   "source": [
    "# Dictionary Setup"
   ]
  },
  {
   "cell_type": "code",
   "execution_count": 5,
   "id": "98877c2d",
   "metadata": {},
   "outputs": [],
   "source": [
    "M = 128\n",
    "N = 256\n",
    "K = 8"
   ]
  },
  {
   "cell_type": "code",
   "execution_count": 6,
   "id": "c46f79e7",
   "metadata": {},
   "outputs": [
    {
     "name": "stderr",
     "output_type": "stream",
     "text": [
      "WARNING:absl:No GPU/TPU found, falling back to CPU. (Set TF_CPP_MIN_LOG_LEVEL=0 and rerun for more info.)\n"
     ]
    }
   ],
   "source": [
    "key = random.PRNGKey(0)\n",
    "Phi = dict.gaussian_mtx(key, M,N)"
   ]
  },
  {
   "cell_type": "code",
   "execution_count": 7,
   "id": "6b135aa1",
   "metadata": {},
   "outputs": [
    {
     "data": {
      "text/plain": [
       "(128, 256)"
      ]
     },
     "execution_count": 7,
     "metadata": {},
     "output_type": "execute_result"
    }
   ],
   "source": [
    "Phi.shape"
   ]
  },
  {
   "cell_type": "code",
   "execution_count": 8,
   "id": "6501e624",
   "metadata": {},
   "outputs": [
    {
     "data": {
      "text/plain": [
       "DeviceArray(0.33975706, dtype=float32)"
      ]
     },
     "execution_count": 8,
     "metadata": {},
     "output_type": "execute_result"
    }
   ],
   "source": [
    "dict.coherence(Phi)"
   ]
  },
  {
   "cell_type": "code",
   "execution_count": 9,
   "id": "5e3d408c",
   "metadata": {},
   "outputs": [],
   "source": [
    "x, omega = data.sparse_normal_representations(key, N, K, 1)\n",
    "x = jnp.squeeze(x)"
   ]
  },
  {
   "cell_type": "code",
   "execution_count": 10,
   "id": "b85c4b41",
   "metadata": {},
   "outputs": [
    {
     "data": {
      "text/plain": [
       "(DeviceArray([ 41,  60,  68,  89,  99, 198, 232, 244], dtype=int32), (8,))"
      ]
     },
     "execution_count": 10,
     "metadata": {},
     "output_type": "execute_result"
    }
   ],
   "source": [
    "omega, omega.shape"
   ]
  },
  {
   "cell_type": "code",
   "execution_count": 11,
   "id": "38919870",
   "metadata": {},
   "outputs": [
    {
     "data": {
      "text/plain": [
       "DeviceArray([ 41,  60,  68,  89,  99, 198, 232, 244], dtype=int32)"
      ]
     },
     "execution_count": 11,
     "metadata": {},
     "output_type": "execute_result"
    }
   ],
   "source": [
    "crs.nonzero_indices(x)"
   ]
  },
  {
   "cell_type": "code",
   "execution_count": 12,
   "id": "5df2ce16",
   "metadata": {},
   "outputs": [
    {
     "data": {
      "text/plain": [
       "DeviceArray([ 0.08086776, -0.3862472 , -0.37565574,  1.6689737 ,\n",
       "             -1.2758199 ,  2.1192    , -0.8582123 ,  1.1305931 ],            dtype=float32)"
      ]
     },
     "execution_count": 12,
     "metadata": {},
     "output_type": "execute_result"
    }
   ],
   "source": [
    "crs.nonzero_values(x)"
   ]
  },
  {
   "cell_type": "code",
   "execution_count": 13,
   "id": "444010d1",
   "metadata": {},
   "outputs": [],
   "source": [
    "y = Phi @ x"
   ]
  },
  {
   "cell_type": "markdown",
   "id": "ca651ed9",
   "metadata": {},
   "source": [
    "# Development of CoSaMP algorithm"
   ]
  },
  {
   "cell_type": "code",
   "execution_count": 14,
   "id": "8d14c3bf",
   "metadata": {},
   "outputs": [
    {
     "data": {
      "text/plain": [
       "DeviceArray(11.47407, dtype=float32)"
      ]
     },
     "execution_count": 14,
     "metadata": {},
     "output_type": "execute_result"
    }
   ],
   "source": [
    "r = y\n",
    "y_norm_sqr = r.T @ r\n",
    "r_norm_sqr = y_norm_sqr\n",
    "r_norm_sqr"
   ]
  },
  {
   "cell_type": "code",
   "execution_count": 15,
   "id": "dc045e7c",
   "metadata": {},
   "outputs": [],
   "source": [
    "flags = jnp.zeros(N, dtype=bool)"
   ]
  },
  {
   "cell_type": "code",
   "execution_count": 16,
   "id": "a887822c",
   "metadata": {},
   "outputs": [
    {
     "data": {
      "text/plain": [
       "16"
      ]
     },
     "execution_count": 16,
     "metadata": {},
     "output_type": "execute_result"
    }
   ],
   "source": [
    "K2 = 2*K\n",
    "K2"
   ]
  },
  {
   "cell_type": "code",
   "execution_count": 17,
   "id": "a3931d3d",
   "metadata": {},
   "outputs": [
    {
     "data": {
      "text/plain": [
       "24"
      ]
     },
     "execution_count": 17,
     "metadata": {},
     "output_type": "execute_result"
    }
   ],
   "source": [
    "K3 = K + K2\n",
    "K3"
   ]
  },
  {
   "cell_type": "code",
   "execution_count": 18,
   "id": "db538c05",
   "metadata": {},
   "outputs": [],
   "source": [
    "iterations = 0"
   ]
  },
  {
   "cell_type": "code",
   "execution_count": 19,
   "id": "ed462347",
   "metadata": {},
   "outputs": [],
   "source": [
    "res_norm_rtol = 1e-3"
   ]
  },
  {
   "cell_type": "code",
   "execution_count": 20,
   "id": "47a2efbf",
   "metadata": {},
   "outputs": [],
   "source": [
    "max_r_norm_sqr = y_norm_sqr * (res_norm_rtol ** 2) "
   ]
  },
  {
   "cell_type": "markdown",
   "id": "3443b380",
   "metadata": {},
   "source": [
    "## First iteration"
   ]
  },
  {
   "cell_type": "code",
   "execution_count": 21,
   "id": "8b953685",
   "metadata": {},
   "outputs": [],
   "source": [
    "h = Phi.T @ r"
   ]
  },
  {
   "cell_type": "code",
   "execution_count": 22,
   "id": "72136729",
   "metadata": {},
   "outputs": [
    {
     "data": {
      "text/plain": [
       "DeviceArray([198,  89,  99, 244, 232, 100, 151, 109, 226, 255,  67, 217,\n",
       "             239, 201,   5,  19,  41,  86,  44, 116, 142,   9, 159, 241],            dtype=int32)"
      ]
     },
     "execution_count": 22,
     "metadata": {},
     "output_type": "execute_result"
    }
   ],
   "source": [
    "I_2k =  pursuit.largest_indices(h, K2 if iterations else K3)\n",
    "I_2k"
   ]
  },
  {
   "cell_type": "code",
   "execution_count": 23,
   "id": "3efc66b6",
   "metadata": {},
   "outputs": [],
   "source": [
    "flags = flags.at[I_2k].set(True)"
   ]
  },
  {
   "cell_type": "code",
   "execution_count": 24,
   "id": "63cbabd6",
   "metadata": {},
   "outputs": [
    {
     "data": {
      "text/plain": [
       "(DeviceArray([  5,   9,  19,  41,  44,  67,  86,  89,  99, 100, 109, 116,\n",
       "              142, 151, 159, 198, 201, 217, 226, 232, 239, 241, 244, 255],            dtype=int32),)"
      ]
     },
     "execution_count": 24,
     "metadata": {},
     "output_type": "execute_result"
    }
   ],
   "source": [
    "jnp.where(flags)"
   ]
  },
  {
   "cell_type": "code",
   "execution_count": 25,
   "id": "f4bb90ff",
   "metadata": {},
   "outputs": [],
   "source": [
    "Phi_3I = Phi[:, flags]"
   ]
  },
  {
   "cell_type": "code",
   "execution_count": 26,
   "id": "9dcdd3f8",
   "metadata": {},
   "outputs": [],
   "source": [
    "x_3I, r_3I_norms, rank_3I, s_3I = jnp.linalg.lstsq(Phi_3I, y)"
   ]
  },
  {
   "cell_type": "code",
   "execution_count": 27,
   "id": "15d88b0c",
   "metadata": {},
   "outputs": [
    {
     "data": {
      "text/plain": [
       "DeviceArray([-0.02588557, -0.00669122, -0.03994435,  0.08871117,\n",
       "             -0.04095322, -0.02504703,  0.04328822,  1.7106531 ,\n",
       "             -1.1434499 , -0.04441866, -0.05053541,  0.11738732,\n",
       "              0.03516048, -0.03045028, -0.01221958,  2.1708896 ,\n",
       "              0.03996569,  0.0356746 ,  0.02685671, -0.8320763 ,\n",
       "             -0.06286937, -0.05119762,  1.0858326 ,  0.00759119],            dtype=float32)"
      ]
     },
     "execution_count": 27,
     "metadata": {},
     "output_type": "execute_result"
    }
   ],
   "source": [
    "x_3I"
   ]
  },
  {
   "cell_type": "code",
   "execution_count": 28,
   "id": "dc26dc6d",
   "metadata": {},
   "outputs": [
    {
     "data": {
      "text/plain": [
       "DeviceArray([0.22964859], dtype=float32)"
      ]
     },
     "execution_count": 28,
     "metadata": {},
     "output_type": "execute_result"
    }
   ],
   "source": [
    "r_3I_norms"
   ]
  },
  {
   "cell_type": "code",
   "execution_count": 29,
   "id": "66f2e8d5",
   "metadata": {},
   "outputs": [
    {
     "data": {
      "text/plain": [
       "DeviceArray(24, dtype=int32)"
      ]
     },
     "execution_count": 29,
     "metadata": {},
     "output_type": "execute_result"
    }
   ],
   "source": [
    "rank_3I"
   ]
  },
  {
   "cell_type": "code",
   "execution_count": 30,
   "id": "43f7ef7f",
   "metadata": {},
   "outputs": [
    {
     "data": {
      "text/plain": [
       "DeviceArray([1.5750406 , 1.328093  , 1.2966532 , 1.2233667 , 1.1843554 ,\n",
       "             1.1588342 , 1.1203228 , 1.0971804 , 1.0686163 , 1.0462837 ,\n",
       "             1.0087969 , 0.9819599 , 0.9384124 , 0.92007697, 0.88111854,\n",
       "             0.83006454, 0.80708253, 0.77306485, 0.7511992 , 0.72991306,\n",
       "             0.69474196, 0.6813258 , 0.5978    , 0.5581449 ],            dtype=float32)"
      ]
     },
     "execution_count": 30,
     "metadata": {},
     "output_type": "execute_result"
    }
   ],
   "source": [
    "s_3I"
   ]
  },
  {
   "cell_type": "code",
   "execution_count": 31,
   "id": "4df5f80c",
   "metadata": {},
   "outputs": [
    {
     "data": {
      "text/plain": [
       "DeviceArray([15,  7,  8, 22, 19, 11,  3, 20], dtype=int32)"
      ]
     },
     "execution_count": 31,
     "metadata": {},
     "output_type": "execute_result"
    }
   ],
   "source": [
    "Ia = pursuit.largest_indices(x_3I, K)\n",
    "Ia"
   ]
  },
  {
   "cell_type": "code",
   "execution_count": 32,
   "id": "9fb763ed",
   "metadata": {},
   "outputs": [
    {
     "data": {
      "text/plain": [
       "DeviceArray([ 2.1708896 ,  1.7106531 , -1.1434499 ,  1.0858326 ,\n",
       "             -0.8320763 ,  0.11738732,  0.08871117, -0.06286937],            dtype=float32)"
      ]
     },
     "execution_count": 32,
     "metadata": {},
     "output_type": "execute_result"
    }
   ],
   "source": [
    "x_3I[Ia]"
   ]
  },
  {
   "cell_type": "code",
   "execution_count": 33,
   "id": "56260c94",
   "metadata": {},
   "outputs": [
    {
     "data": {
      "text/plain": [
       "DeviceArray([  5,   9,  19,  41,  44,  67,  86,  89,  99, 100, 109, 116,\n",
       "             142, 151, 159, 198, 201, 217, 226, 232, 239, 241, 244, 255],            dtype=int32)"
      ]
     },
     "execution_count": 33,
     "metadata": {},
     "output_type": "execute_result"
    }
   ],
   "source": [
    "I_3k, = jnp.where(flags)\n",
    "I_3k"
   ]
  },
  {
   "cell_type": "code",
   "execution_count": 34,
   "id": "1c7c825b",
   "metadata": {},
   "outputs": [
    {
     "data": {
      "text/plain": [
       "DeviceArray([198,  89,  99, 244, 232, 116,  41, 239], dtype=int32)"
      ]
     },
     "execution_count": 34,
     "metadata": {},
     "output_type": "execute_result"
    }
   ],
   "source": [
    "I = I_3k[Ia]\n",
    "I"
   ]
  },
  {
   "cell_type": "code",
   "execution_count": 35,
   "id": "8707e6db",
   "metadata": {},
   "outputs": [
    {
     "data": {
      "text/plain": [
       "DeviceArray([ 2.1708896 ,  1.7106531 , -1.1434499 ,  1.0858326 ,\n",
       "             -0.8320763 ,  0.11738732,  0.08871117, -0.06286937],            dtype=float32)"
      ]
     },
     "execution_count": 35,
     "metadata": {},
     "output_type": "execute_result"
    }
   ],
   "source": [
    "x_I = x_3I[Ia]\n",
    "x_I"
   ]
  },
  {
   "cell_type": "code",
   "execution_count": 36,
   "id": "a4d48bd3",
   "metadata": {},
   "outputs": [],
   "source": [
    "Phi_I = Phi[:, I]"
   ]
  },
  {
   "cell_type": "code",
   "execution_count": 37,
   "id": "47993019",
   "metadata": {},
   "outputs": [
    {
     "data": {
      "text/plain": [
       "DeviceArray(0.5008783, dtype=float32)"
      ]
     },
     "execution_count": 37,
     "metadata": {},
     "output_type": "execute_result"
    }
   ],
   "source": [
    "jnp.linalg.norm(y - Phi_I @ x_I)"
   ]
  },
  {
   "cell_type": "code",
   "execution_count": 38,
   "id": "2e35182e",
   "metadata": {},
   "outputs": [
    {
     "data": {
      "text/plain": [
       "DeviceArray([ 41,  89,  99, 198, 232, 244], dtype=int32)"
      ]
     },
     "execution_count": 38,
     "metadata": {},
     "output_type": "execute_result"
    }
   ],
   "source": [
    "jnp.intersect1d(I, omega)"
   ]
  },
  {
   "cell_type": "code",
   "execution_count": 39,
   "id": "d68098e9",
   "metadata": {},
   "outputs": [
    {
     "data": {
      "text/plain": [
       "DeviceArray([198,  89,  99, 244, 232, 116,  41, 239], dtype=int32)"
      ]
     },
     "execution_count": 39,
     "metadata": {},
     "output_type": "execute_result"
    }
   ],
   "source": [
    "I"
   ]
  },
  {
   "cell_type": "code",
   "execution_count": 40,
   "id": "6c29049c",
   "metadata": {},
   "outputs": [
    {
     "data": {
      "text/plain": [
       "DeviceArray([ 41,  60,  68,  89,  99, 198, 232, 244], dtype=int32)"
      ]
     },
     "execution_count": 40,
     "metadata": {},
     "output_type": "execute_result"
    }
   ],
   "source": [
    "omega"
   ]
  },
  {
   "cell_type": "code",
   "execution_count": 41,
   "id": "ef792da6",
   "metadata": {},
   "outputs": [
    {
     "data": {
      "text/plain": [
       "DeviceArray([60, 68], dtype=int32)"
      ]
     },
     "execution_count": 41,
     "metadata": {},
     "output_type": "execute_result"
    }
   ],
   "source": [
    "jnp.setdiff1d(omega, I)"
   ]
  },
  {
   "cell_type": "code",
   "execution_count": 42,
   "id": "e2256559",
   "metadata": {},
   "outputs": [
    {
     "data": {
      "text/plain": [
       "DeviceArray([60, 68], dtype=int32)"
      ]
     },
     "execution_count": 42,
     "metadata": {},
     "output_type": "execute_result"
    }
   ],
   "source": [
    "jnp.setdiff1d(omega, I_3k)"
   ]
  },
  {
   "cell_type": "code",
   "execution_count": 43,
   "id": "3081566c",
   "metadata": {},
   "outputs": [],
   "source": [
    "r = y - Phi_I @ x_I"
   ]
  },
  {
   "cell_type": "code",
   "execution_count": 44,
   "id": "c346251b",
   "metadata": {},
   "outputs": [
    {
     "data": {
      "text/plain": [
       "DeviceArray(0.250879, dtype=float32)"
      ]
     },
     "execution_count": 44,
     "metadata": {},
     "output_type": "execute_result"
    }
   ],
   "source": [
    "r_norm_sqr = r.T @ r\n",
    "r_norm_sqr"
   ]
  },
  {
   "cell_type": "code",
   "execution_count": 45,
   "id": "679cdc4f",
   "metadata": {},
   "outputs": [],
   "source": [
    "iterations += 1"
   ]
  },
  {
   "cell_type": "code",
   "execution_count": 46,
   "id": "e5a0126c",
   "metadata": {},
   "outputs": [
    {
     "data": {
      "text/plain": [
       "DeviceArray(False, dtype=bool)"
      ]
     },
     "execution_count": 46,
     "metadata": {},
     "output_type": "execute_result"
    }
   ],
   "source": [
    "r_norm_sqr < max_r_norm_sqr"
   ]
  },
  {
   "cell_type": "code",
   "execution_count": 47,
   "id": "62404ef3",
   "metadata": {},
   "outputs": [],
   "source": [
    "flags = flags.at[:].set(False)"
   ]
  },
  {
   "cell_type": "code",
   "execution_count": 48,
   "id": "515278fb",
   "metadata": {},
   "outputs": [],
   "source": [
    "flags = flags.at[I].set(True)"
   ]
  },
  {
   "cell_type": "code",
   "execution_count": 49,
   "id": "d7e3c9bc",
   "metadata": {},
   "outputs": [
    {
     "data": {
      "text/plain": [
       "(DeviceArray([ 41,  89,  99, 116, 198, 232, 239, 244], dtype=int32),)"
      ]
     },
     "execution_count": 49,
     "metadata": {},
     "output_type": "execute_result"
    }
   ],
   "source": [
    "jnp.where(flags)"
   ]
  },
  {
   "cell_type": "markdown",
   "id": "904a8946",
   "metadata": {},
   "source": [
    "## Second iteration"
   ]
  },
  {
   "cell_type": "code",
   "execution_count": 50,
   "id": "c93c2eee",
   "metadata": {},
   "outputs": [
    {
     "data": {
      "text/plain": [
       "1"
      ]
     },
     "execution_count": 50,
     "metadata": {},
     "output_type": "execute_result"
    }
   ],
   "source": [
    "iterations"
   ]
  },
  {
   "cell_type": "code",
   "execution_count": 51,
   "id": "21202331",
   "metadata": {},
   "outputs": [],
   "source": [
    "h = Phi.T @ r"
   ]
  },
  {
   "cell_type": "code",
   "execution_count": 52,
   "id": "93df19d8",
   "metadata": {},
   "outputs": [
    {
     "data": {
      "text/plain": [
       "DeviceArray([ 60,  68,  73,   4,  34,  56, 105, 160,  59, 245, 137, 209,\n",
       "             178, 103, 233, 155], dtype=int32)"
      ]
     },
     "execution_count": 52,
     "metadata": {},
     "output_type": "execute_result"
    }
   ],
   "source": [
    "I_2k =  pursuit.largest_indices(h, K2 if iterations else K3)\n",
    "I_2k"
   ]
  },
  {
   "cell_type": "code",
   "execution_count": 53,
   "id": "f9f662ac",
   "metadata": {},
   "outputs": [
    {
     "data": {
      "text/plain": [
       "DeviceArray([60, 68], dtype=int32)"
      ]
     },
     "execution_count": 53,
     "metadata": {},
     "output_type": "execute_result"
    }
   ],
   "source": [
    "jnp.intersect1d(omega, I_2k)"
   ]
  },
  {
   "cell_type": "code",
   "execution_count": 54,
   "id": "9316ece8",
   "metadata": {},
   "outputs": [],
   "source": [
    "flags = flags.at[I_2k].set(True)"
   ]
  },
  {
   "cell_type": "code",
   "execution_count": 55,
   "id": "884c430a",
   "metadata": {},
   "outputs": [],
   "source": [
    "I_3k, = jnp.where(flags)"
   ]
  },
  {
   "cell_type": "code",
   "execution_count": 56,
   "id": "09308740",
   "metadata": {},
   "outputs": [
    {
     "data": {
      "text/plain": [
       "DeviceArray([ 41,  60,  68,  89,  99, 198, 232, 244], dtype=int32)"
      ]
     },
     "execution_count": 56,
     "metadata": {},
     "output_type": "execute_result"
    }
   ],
   "source": [
    "jnp.intersect1d(omega, I_3k)"
   ]
  },
  {
   "cell_type": "code",
   "execution_count": 57,
   "id": "b1fc6218",
   "metadata": {},
   "outputs": [
    {
     "data": {
      "text/plain": [
       "DeviceArray([], dtype=int32)"
      ]
     },
     "execution_count": 57,
     "metadata": {},
     "output_type": "execute_result"
    }
   ],
   "source": [
    "jnp.setdiff1d(omega, I_3k)"
   ]
  },
  {
   "cell_type": "code",
   "execution_count": 58,
   "id": "9140ef87",
   "metadata": {},
   "outputs": [],
   "source": [
    "Phi_3I = Phi[:, flags]"
   ]
  },
  {
   "cell_type": "code",
   "execution_count": 59,
   "id": "bbff0fa7",
   "metadata": {},
   "outputs": [],
   "source": [
    "x_3I, r_3I_norms, rank_3I, s_3I = jnp.linalg.lstsq(Phi_3I, y)"
   ]
  },
  {
   "cell_type": "code",
   "execution_count": 60,
   "id": "6a98cc09",
   "metadata": {},
   "outputs": [
    {
     "data": {
      "text/plain": [
       "DeviceArray([-8.9406967e-08, -2.3096800e-07,  8.0867290e-02,\n",
       "             -2.3841858e-07,  4.7683716e-07, -3.8624728e-01,\n",
       "             -3.7565678e-01,  1.1920929e-07,  1.6689737e+00,\n",
       "             -1.2758204e+00, -4.0978193e-07,  3.5762787e-07,\n",
       "              4.7683716e-07,  2.8312206e-07, -4.3213367e-07,\n",
       "              5.3644180e-07,  4.1723251e-07,  2.1192000e+00,\n",
       "             -5.9604645e-08, -8.5821259e-01, -8.3446503e-07,\n",
       "              8.6426735e-07,  1.1305925e+00, -3.5762787e-07],            dtype=float32)"
      ]
     },
     "execution_count": 60,
     "metadata": {},
     "output_type": "execute_result"
    }
   ],
   "source": [
    "x_3I"
   ]
  },
  {
   "cell_type": "code",
   "execution_count": 61,
   "id": "bb09b1d3",
   "metadata": {},
   "outputs": [
    {
     "data": {
      "text/plain": [
       "DeviceArray([5.3271827e-12], dtype=float32)"
      ]
     },
     "execution_count": 61,
     "metadata": {},
     "output_type": "execute_result"
    }
   ],
   "source": [
    "r_3I_norms"
   ]
  },
  {
   "cell_type": "code",
   "execution_count": 62,
   "id": "8cbdafcd",
   "metadata": {},
   "outputs": [
    {
     "data": {
      "text/plain": [
       "DeviceArray([1.4674419 , 1.3486443 , 1.3159059 , 1.2481905 , 1.1904742 ,\n",
       "             1.1661103 , 1.1321163 , 1.075251  , 1.0460968 , 1.026143  ,\n",
       "             1.0208699 , 1.0056185 , 0.9527196 , 0.9132839 , 0.87185484,\n",
       "             0.84825575, 0.81520104, 0.8015615 , 0.77109873, 0.7518697 ,\n",
       "             0.7152713 , 0.6672644 , 0.6339768 , 0.5247762 ],            dtype=float32)"
      ]
     },
     "execution_count": 62,
     "metadata": {},
     "output_type": "execute_result"
    }
   ],
   "source": [
    "s_3I"
   ]
  },
  {
   "cell_type": "code",
   "execution_count": 63,
   "id": "1c58a15e",
   "metadata": {},
   "outputs": [
    {
     "data": {
      "text/plain": [
       "DeviceArray(24, dtype=int32)"
      ]
     },
     "execution_count": 63,
     "metadata": {},
     "output_type": "execute_result"
    }
   ],
   "source": [
    "rank_3I"
   ]
  },
  {
   "cell_type": "code",
   "execution_count": 64,
   "id": "d637670a",
   "metadata": {},
   "outputs": [
    {
     "data": {
      "text/plain": [
       "DeviceArray([17,  8,  9, 22, 19,  5,  6,  2], dtype=int32)"
      ]
     },
     "execution_count": 64,
     "metadata": {},
     "output_type": "execute_result"
    }
   ],
   "source": [
    "Ia = pursuit.largest_indices(x_3I, K)\n",
    "Ia"
   ]
  },
  {
   "cell_type": "code",
   "execution_count": 65,
   "id": "1d0f1db6",
   "metadata": {},
   "outputs": [
    {
     "data": {
      "text/plain": [
       "DeviceArray([198,  89,  99, 244, 232,  60,  68,  41], dtype=int32)"
      ]
     },
     "execution_count": 65,
     "metadata": {},
     "output_type": "execute_result"
    }
   ],
   "source": [
    "I = I_3k[Ia]\n",
    "I"
   ]
  },
  {
   "cell_type": "code",
   "execution_count": 66,
   "id": "430600b1",
   "metadata": {},
   "outputs": [
    {
     "data": {
      "text/plain": [
       "DeviceArray([], dtype=int32)"
      ]
     },
     "execution_count": 66,
     "metadata": {},
     "output_type": "execute_result"
    }
   ],
   "source": [
    "jnp.setdiff1d(omega, I)"
   ]
  },
  {
   "cell_type": "code",
   "execution_count": 67,
   "id": "c8e6b695",
   "metadata": {},
   "outputs": [
    {
     "data": {
      "text/plain": [
       "DeviceArray([ 2.1192    ,  1.6689737 , -1.2758204 ,  1.1305925 ,\n",
       "             -0.8582126 , -0.38624728, -0.37565678,  0.08086729],            dtype=float32)"
      ]
     },
     "execution_count": 67,
     "metadata": {},
     "output_type": "execute_result"
    }
   ],
   "source": [
    "x_I = x_3I[Ia]\n",
    "x_I"
   ]
  },
  {
   "cell_type": "code",
   "execution_count": 68,
   "id": "2d129182",
   "metadata": {},
   "outputs": [],
   "source": [
    "Phi_I = Phi[:, I]"
   ]
  },
  {
   "cell_type": "code",
   "execution_count": 69,
   "id": "85d9b888",
   "metadata": {},
   "outputs": [],
   "source": [
    "r = y - Phi_I @ x_I"
   ]
  },
  {
   "cell_type": "code",
   "execution_count": 70,
   "id": "1d6cf3e7",
   "metadata": {},
   "outputs": [
    {
     "data": {
      "text/plain": [
       "DeviceArray(1.3279785e-06, dtype=float32)"
      ]
     },
     "execution_count": 70,
     "metadata": {},
     "output_type": "execute_result"
    }
   ],
   "source": [
    "jnp.linalg.norm(r)"
   ]
  },
  {
   "cell_type": "code",
   "execution_count": 71,
   "id": "3cc4ebe1",
   "metadata": {},
   "outputs": [],
   "source": [
    "r_norm_sqr = r.T @ r"
   ]
  },
  {
   "cell_type": "code",
   "execution_count": 72,
   "id": "c711e0f8",
   "metadata": {},
   "outputs": [
    {
     "data": {
      "text/plain": [
       "DeviceArray(True, dtype=bool)"
      ]
     },
     "execution_count": 72,
     "metadata": {},
     "output_type": "execute_result"
    }
   ],
   "source": [
    "r_norm_sqr < max_r_norm_sqr"
   ]
  },
  {
   "cell_type": "code",
   "execution_count": 73,
   "id": "9937af72",
   "metadata": {},
   "outputs": [],
   "source": [
    "from cr.sparse.pursuit import cosamp"
   ]
  },
  {
   "cell_type": "code",
   "execution_count": 74,
   "id": "acedc886",
   "metadata": {},
   "outputs": [],
   "source": [
    "solution =  cosamp.solve(Phi, y, K)"
   ]
  },
  {
   "cell_type": "code",
   "execution_count": 75,
   "id": "cc03282a",
   "metadata": {},
   "outputs": [
    {
     "data": {
      "text/plain": [
       "DeviceArray([ 2.1191995 ,  1.6689733 , -1.2758204 ,  1.1305943 ,\n",
       "             -0.8582119 , -0.38624743, -0.37565574,  0.08086765],            dtype=float32)"
      ]
     },
     "execution_count": 75,
     "metadata": {},
     "output_type": "execute_result"
    }
   ],
   "source": [
    "solution.x_I"
   ]
  },
  {
   "cell_type": "code",
   "execution_count": 76,
   "id": "e1d2462a",
   "metadata": {},
   "outputs": [
    {
     "data": {
      "text/plain": [
       "DeviceArray([198,  89,  99, 244, 232,  60,  68,  41], dtype=int32)"
      ]
     },
     "execution_count": 76,
     "metadata": {},
     "output_type": "execute_result"
    }
   ],
   "source": [
    "solution.I"
   ]
  },
  {
   "cell_type": "code",
   "execution_count": 77,
   "id": "e044a447",
   "metadata": {},
   "outputs": [
    {
     "data": {
      "text/plain": [
       "DeviceArray([ 41,  60,  68,  89,  99, 198, 232, 244], dtype=int32)"
      ]
     },
     "execution_count": 77,
     "metadata": {},
     "output_type": "execute_result"
    }
   ],
   "source": [
    "omega"
   ]
  },
  {
   "cell_type": "code",
   "execution_count": 78,
   "id": "fb860003",
   "metadata": {},
   "outputs": [
    {
     "data": {
      "text/plain": [
       "DeviceArray([], dtype=int32)"
      ]
     },
     "execution_count": 78,
     "metadata": {},
     "output_type": "execute_result"
    }
   ],
   "source": [
    "jnp.setdiff1d(omega, solution.I)"
   ]
  },
  {
   "cell_type": "code",
   "execution_count": 79,
   "id": "95a989bf",
   "metadata": {},
   "outputs": [
    {
     "data": {
      "text/plain": [
       "(DeviceArray(2.3235905e-12, dtype=float32), DeviceArray(2, dtype=int32))"
      ]
     },
     "execution_count": 79,
     "metadata": {},
     "output_type": "execute_result"
    }
   ],
   "source": [
    "solution.r_norm_sqr, solution.iterations"
   ]
  },
  {
   "cell_type": "code",
   "execution_count": 80,
   "id": "0db0d0b6",
   "metadata": {},
   "outputs": [],
   "source": [
    "def time_solve():\n",
    "    solution = cosamp.solve(Phi, y, K)\n",
    "    solution.x_I.block_until_ready()\n",
    "    solution.r.block_until_ready()\n",
    "    solution.I.block_until_ready()\n",
    "    solution.r_norm_sqr.block_until_ready()"
   ]
  },
  {
   "cell_type": "code",
   "execution_count": 81,
   "id": "07bed182",
   "metadata": {},
   "outputs": [
    {
     "name": "stdout",
     "output_type": "stream",
     "text": [
      "310 ms ± 3.28 ms per loop (mean ± std. dev. of 7 runs, 1 loop each)\n"
     ]
    }
   ],
   "source": [
    "%timeit time_solve()"
   ]
  },
  {
   "cell_type": "code",
   "execution_count": 82,
   "id": "4b14dee2",
   "metadata": {},
   "outputs": [],
   "source": [
    "cosamp_solve  = jax.jit(cosamp.solve, static_argnums=(2,3))"
   ]
  },
  {
   "cell_type": "code",
   "execution_count": 83,
   "id": "387fe6c5",
   "metadata": {},
   "outputs": [
    {
     "data": {
      "text/plain": [
       "(DeviceArray(2.3235905e-12, dtype=float32), DeviceArray(2, dtype=int32))"
      ]
     },
     "execution_count": 83,
     "metadata": {},
     "output_type": "execute_result"
    }
   ],
   "source": [
    "sol = cosamp_solve(Phi, y, K, 3)\n",
    "sol.r_norm_sqr, sol.iterations"
   ]
  },
  {
   "cell_type": "code",
   "execution_count": 84,
   "id": "c1e807af",
   "metadata": {},
   "outputs": [
    {
     "data": {
      "text/plain": [
       "DeviceArray([], dtype=int32)"
      ]
     },
     "execution_count": 84,
     "metadata": {},
     "output_type": "execute_result"
    }
   ],
   "source": [
    "jnp.setdiff1d(omega, solution.I)"
   ]
  },
  {
   "cell_type": "code",
   "execution_count": 85,
   "id": "eb3b178a",
   "metadata": {},
   "outputs": [],
   "source": [
    "def time_jit_solve():\n",
    "    solution = cosamp_solve(Phi, y, K)\n",
    "    solution.x_I.block_until_ready()\n",
    "    solution.r.block_until_ready()\n",
    "    solution.I.block_until_ready()\n",
    "    solution.r_norm_sqr.block_until_ready()"
   ]
  },
  {
   "cell_type": "code",
   "execution_count": 86,
   "id": "9b7fa870",
   "metadata": {},
   "outputs": [
    {
     "name": "stdout",
     "output_type": "stream",
     "text": [
      "775 µs ± 14.8 µs per loop (mean ± std. dev. of 7 runs, 1 loop each)\n"
     ]
    }
   ],
   "source": [
    "%timeit time_jit_solve()"
   ]
  },
  {
   "cell_type": "code",
   "execution_count": 88,
   "id": "77594779",
   "metadata": {},
   "outputs": [
    {
     "data": {
      "text/plain": [
       "400.0"
      ]
     },
     "execution_count": 88,
     "metadata": {},
     "output_type": "execute_result"
    }
   ],
   "source": [
    "310 * 1000 / 775"
   ]
  },
  {
   "cell_type": "code",
   "execution_count": null,
   "id": "492dab95",
   "metadata": {},
   "outputs": [],
   "source": []
  }
 ],
 "metadata": {
  "kernelspec": {
   "display_name": "Python 3",
   "language": "python",
   "name": "python3"
  },
  "language_info": {
   "codemirror_mode": {
    "name": "ipython",
    "version": 3
   },
   "file_extension": ".py",
   "mimetype": "text/x-python",
   "name": "python",
   "nbconvert_exporter": "python",
   "pygments_lexer": "ipython3",
   "version": "3.9.4"
  }
 },
 "nbformat": 4,
 "nbformat_minor": 5
}
